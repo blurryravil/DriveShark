{
 "cells": [
  {
   "cell_type": "code",
   "execution_count": 1,
   "metadata": {},
   "outputs": [],
   "source": [
    "import os\n",
    "import glob\n",
    "import shutil\n",
    "import random\n",
    "from tqdm import tqdm"
   ]
  },
  {
   "cell_type": "code",
   "execution_count": 3,
   "metadata": {},
   "outputs": [
    {
     "name": "stderr",
     "output_type": "stream",
     "text": [
      "0it [00:00, ?it/s]\n",
      "100%|██████████| 3242/3242 [00:22<00:00, 145.06it/s]\n",
      "100%|██████████| 1114/1114 [00:07<00:00, 152.76it/s]\n",
      "100%|██████████| 679/679 [00:04<00:00, 148.78it/s]\n",
      "100%|██████████| 1069/1069 [00:06<00:00, 153.50it/s]\n",
      "100%|██████████| 736/736 [00:04<00:00, 150.95it/s]\n",
      "100%|██████████| 1012/1012 [00:06<00:00, 148.89it/s]\n",
      "100%|██████████| 624/624 [00:04<00:00, 140.73it/s]\n",
      "100%|██████████| 832/832 [00:05<00:00, 149.43it/s]\n",
      "100%|██████████| 387/387 [00:02<00:00, 137.27it/s]\n",
      "100%|██████████| 399/399 [00:02<00:00, 140.53it/s]\n",
      "100%|██████████| 1648/1648 [00:11<00:00, 142.93it/s]\n",
      "100%|██████████| 8728/8728 [01:01<00:00, 140.91it/s]\n",
      "100%|██████████| 3605/3605 [00:25<00:00, 139.87it/s]\n",
      "100%|██████████| 8884/8884 [01:03<00:00, 139.34it/s]\n",
      "100%|██████████| 1132/1132 [00:08<00:00, 132.26it/s]\n",
      "100%|██████████| 1889/1889 [00:12<00:00, 146.33it/s]\n",
      "100%|██████████| 1648/1648 [00:11<00:00, 140.34it/s]\n",
      "100%|██████████| 4410/4410 [00:31<00:00, 140.89it/s]\n",
      "100%|██████████| 6175/6175 [00:44<00:00, 137.44it/s]\n",
      "100%|██████████| 704/704 [00:04<00:00, 154.10it/s]\n",
      "100%|██████████| 987/987 [00:06<00:00, 148.21it/s]\n",
      "100%|██████████| 382/382 [00:02<00:00, 153.67it/s]\n",
      "100%|██████████| 522/522 [00:03<00:00, 151.57it/s]\n",
      "100%|██████████| 752/752 [00:04<00:00, 152.59it/s]\n",
      "100%|██████████| 1502/1502 [00:09<00:00, 153.27it/s]\n",
      "100%|██████████| 1246/1246 [00:08<00:00, 153.32it/s]\n",
      "100%|██████████| 665/665 [00:04<00:00, 153.28it/s]\n",
      "100%|██████████| 736/736 [00:04<00:00, 151.21it/s]\n",
      "100%|██████████| 1393/1393 [00:09<00:00, 154.11it/s]\n",
      "100%|██████████| 1384/1384 [00:09<00:00, 151.86it/s]\n",
      "100%|██████████| 1738/1738 [00:11<00:00, 145.07it/s]\n",
      "100%|██████████| 6162/6162 [00:41<00:00, 149.50it/s]\n",
      "100%|██████████| 681/681 [00:04<00:00, 152.56it/s]\n",
      "100%|██████████| 739/739 [00:04<00:00, 147.88it/s]\n",
      "100%|██████████| 642/642 [00:04<00:00, 134.84it/s]\n",
      "100%|██████████| 6193/6193 [00:40<00:00, 153.91it/s]\n",
      "100%|██████████| 10257/10257 [01:07<00:00, 152.51it/s]\n"
     ]
    }
   ],
   "source": [
    "raw_data = r'C:/Users/sansk/Downloads/UTS/mrlEyes_2018_01/mrlEyes_2018_01'\n",
    "for dirpath, dirname, filename in os.walk(raw_data):\n",
    "    for file in tqdm([f for f in filename if f.endswith('.png')]):\n",
    "        if file.split('_')[4] == '0':\n",
    "            path='C:/Users/sansk/Downloads/UTS/mrlEyes_2018_01/data/train/closed'\n",
    "            if not os.path.exists(path):\n",
    "                os.makedirs(path)\n",
    "            shutil.copy(src=dirpath + '/' + file, dst= path)\n",
    "        elif file.split('_')[4] == '1':\n",
    "            path='C:/Users/sansk/Downloads/UTS/mrlEyes_2018_01/data/train/open'\n",
    "            if not os.path.exists(path):\n",
    "                os.makedirs(path)\n",
    "            shutil.copy(src=dirpath + '/' + file, dst= path)        "
   ]
  },
  {
   "cell_type": "code",
   "execution_count": 4,
   "metadata": {},
   "outputs": [],
   "source": [
    "def create_test_closed(source, destination, percent):\n",
    "    '''\n",
    "    divides closed eyes images into given percent and moves from\n",
    "    source to destination.\n",
    "    \n",
    "    Arguments:\n",
    "    source(path): path of source directory\n",
    "    destination(path): path of destination directory\n",
    "    percent(float): percent of data to be divided(range: 0 to 1)\n",
    "    '''\n",
    "    path, dirs, files_closed = next(os.walk(source))\n",
    "    file_count_closed = len(files_closed)\n",
    "    percentage = file_count_closed * percent\n",
    "    to_move = random.sample(glob.glob(source + \"/*.png\"), int(percentage))\n",
    "\n",
    "    for f in enumerate(to_move):\n",
    "        if not os.path.exists(destination):\n",
    "            os.makedirs(destination)\n",
    "        shutil.move(f[1], destination)\n",
    "    print(f'moved {int(percentage)} images to the destination successfully.')    "
   ]
  },
  {
   "cell_type": "code",
   "execution_count": 5,
   "metadata": {},
   "outputs": [],
   "source": [
    "def create_test_open(source, destination, percent):\n",
    "    '''\n",
    "    divides open eyes images into given percent and moves from\n",
    "    source to destination.\n",
    "    \n",
    "    Arguments:\n",
    "    source(path): path of source directory\n",
    "    destination(path): path of destination directory\n",
    "    percent(float): percent of data to be divided(range: 0 to 1)\n",
    "    '''\n",
    "    path, dirs, files_open = next(os.walk(source))\n",
    "    file_count_open = len(files_open)\n",
    "    percentage = file_count_open * percent\n",
    "    to_move = random.sample(glob.glob(source + \"/*.png\"), int(percentage))\n",
    "\n",
    "    for f in enumerate(to_move):\n",
    "        if not os.path.exists(destination):\n",
    "            os.makedirs(destination)\n",
    "        shutil.move(f[1], destination)\n",
    "    print(f'moved {int(percentage)} images to the destination successfully.')"
   ]
  },
  {
   "cell_type": "code",
   "execution_count": 6,
   "metadata": {},
   "outputs": [
    {
     "name": "stdout",
     "output_type": "stream",
     "text": [
      "moved 8389 images to the destination successfully.\n"
     ]
    }
   ],
   "source": [
    "create_test_closed('C:/Users/sansk/Downloads/UTS/mrlEyes_2018_01/data/train/closed', \n",
    "                    'C:/Users/sansk/Downloads/UTS/mrlEyes_2018_01/data/test/closed', \n",
    "                    0.2)"
   ]
  },
  {
   "cell_type": "code",
   "execution_count": 7,
   "metadata": {},
   "outputs": [
    {
     "name": "stdout",
     "output_type": "stream",
     "text": [
      "moved 8590 images to the destination successfully.\n"
     ]
    }
   ],
   "source": [
    "create_test_open('C:/Users/sansk/Downloads/UTS/mrlEyes_2018_01/data/train/open', \n",
    "                    'C:/Users/sansk/Downloads/UTS/mrlEyes_2018_01/data/test/open', \n",
    "                    0.2)"
   ]
  },
  {
   "cell_type": "code",
   "execution_count": null,
   "metadata": {},
   "outputs": [],
   "source": []
  }
 ],
 "metadata": {
  "kernelspec": {
   "display_name": "Python 3",
   "language": "python",
   "name": "python3"
  },
  "language_info": {
   "codemirror_mode": {
    "name": "ipython",
    "version": 3
   },
   "file_extension": ".py",
   "mimetype": "text/x-python",
   "name": "python",
   "nbconvert_exporter": "python",
   "pygments_lexer": "ipython3",
   "version": "3.10.4"
  },
  "vscode": {
   "interpreter": {
    "hash": "80ba4016e8ec853d7b55d6915013d2adae47c4b5f908295f8089a04cc277b65d"
   }
  }
 },
 "nbformat": 4,
 "nbformat_minor": 4
}
